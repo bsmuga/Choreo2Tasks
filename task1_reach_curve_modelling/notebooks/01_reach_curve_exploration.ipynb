{
 "cells": [
  {
   "cell_type": "markdown",
   "metadata": {},
   "source": [
    "# Reach Curve Modeling Based On Timespends Data\n",
    " \n",
    "This notebook explores and models reach curve.\n",
    "\n",
    "## Objectives:\n",
    "1. Load and explore data\n",
    "2. Build analytical model\n",
    "3. Questions and answers"
   ]
  },
  {
   "cell_type": "code",
   "execution_count": null,
   "metadata": {},
   "outputs": [],
   "source": [
    "import numpy as np\n",
    "import pandas as pd\n",
    "import matplotlib.pyplot as plt\n",
    "\n",
    "import warnings\n",
    "warnings.filterwarnings('ignore')"
   ]
  },
  {
   "cell_type": "markdown",
   "metadata": {},
   "source": [
    "## 1. Load and explore data"
   ]
  },
  {
   "cell_type": "code",
   "execution_count": null,
   "metadata": {},
   "outputs": [],
   "source": [
    "timespends = pd.read_csv(\"../data/timespends.csv\", index_col=0)\n",
    "\n",
    "TOTAL_NUM_SAMPLES = len(timespends)\n",
    "print(f\"No. of samples: {TOTAL_NUM_SAMPLES}\")\n",
    "print(f\"Sample:\\n {timespends.head()}\")"
   ]
  },
  {
   "cell_type": "code",
   "execution_count": null,
   "metadata": {},
   "outputs": [],
   "source": [
    "plt.plot(sorted(timespends['timespends']))\n",
    "plt.title(\"Timespends (sorted)\")\n",
    "plt.show()"
   ]
  },
  {
   "cell_type": "code",
   "execution_count": null,
   "metadata": {},
   "outputs": [],
   "source": [
    "timespends['timespends'].hist()"
   ]
  },
  {
   "cell_type": "code",
   "execution_count": null,
   "metadata": {},
   "outputs": [],
   "source": [
    "print(\"Zero time users are {:.2f} % of all users.\".format(np.sum(timespends['timespends'] == 0) / len(timespends) * 100))"
   ]
  },
  {
   "cell_type": "markdown",
   "metadata": {},
   "source": [
    "### Observations\n",
    "\n",
    "The entire population comprises $10,333$ samples, for which the average time spent on a particular medium was measured.\n",
    "\n",
    "The above plot reveals about $20$% of sampled population doesn't use the medium at all. \n",
    "This means there's simply no way to reach them through this medium, and it will also set an upper limit for the reach curve ($80$%)\n",
    "\n",
    "On the other hand, about $15$% of the population spends the most time on this medium compared to all other groups. \n",
    "This group will likely contain the highest number of individuals who will see an advertisement multiple times. \n",
    "Because of it - the reach curve will flatten – despite an increase in the number of impressions."
   ]
  },
  {
   "cell_type": "code",
   "execution_count": null,
   "metadata": {},
   "outputs": [],
   "source": [
    "TOTAL_TIMESPENDS_SUM = np.sum(timespends['timespends'])\n",
    "timespends.sort_values(by='timespends', inplace=True)\n",
    "timespends['perc_of_total'] = timespends['timespends'] / TOTAL_TIMESPENDS_SUM * 100"
   ]
  },
  {
   "cell_type": "markdown",
   "metadata": {},
   "source": [
    "## 2. Modelling\n",
    "\n",
    "### Observation\n",
    "The approach to modeling a reach curve significantly depends on the media type.\n",
    "\n",
    "For TV, a single ad impression can reach multiple viewers at once, but you can't distinguish between them. It also makes it impossible to prevent repeat views to the same individual.\n",
    "\n",
    "On digital platforms, you pay for every impression. Here, the situation is more complex. While you can sometimes track if a user has seen an ad before (if they aren't anonymous), a single person might have multiple accounts. The platform sees these as different users, which inflates your reach numbers and makes it difficult to accurately cap frequency for that individual.\n",
    "\n",
    "For the notebook, let's simplify this by treating each impression as a request from a user. Assume there's no tracking history, meaning we can't tell if a user has already seen an ad. This assumption makes it possible for users to see the same ad multiple times."
   ]
  },
  {
   "cell_type": "markdown",
   "metadata": {},
   "source": [
    "### Poisson regression model\n",
    "Model reach curve with [Poisson regression model](https://en.wikipedia.org/wiki/Poisson_regression). It seems promising."
   ]
  },
  {
   "cell_type": "markdown",
   "metadata": {},
   "source": [
    "## Questions and answers\n",
    "1. What criteria should the reach function meet (maximum and minimum value, monotonicity)?\n",
    "2. How would you map the distribution of impressions among people and why?\n",
    "3. What is the relationship between time-spends and expected values of impressions received for the given people?"
   ]
  },
  {
   "cell_type": "markdown",
   "metadata": {},
   "source": []
  }
 ],
 "metadata": {
  "kernelspec": {
   "display_name": "venv",
   "language": "python",
   "name": "python3"
  },
  "language_info": {
   "codemirror_mode": {
    "name": "ipython",
    "version": 3
   },
   "file_extension": ".py",
   "mimetype": "text/x-python",
   "name": "python",
   "nbconvert_exporter": "python",
   "pygments_lexer": "ipython3",
   "version": "3.12.3"
  }
 },
 "nbformat": 4,
 "nbformat_minor": 4
}
