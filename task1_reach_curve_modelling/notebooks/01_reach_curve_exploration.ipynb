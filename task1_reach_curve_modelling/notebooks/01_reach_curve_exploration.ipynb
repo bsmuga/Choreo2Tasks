{
 "cells": [
  {
   "cell_type": "markdown",
   "metadata": {},
   "source": [
    "# Reach Curve Modeling Based On Timespends Data\n",
    " \n",
    "This notebook explores and models reach curve.\n",
    "\n",
    "## Objectives:\n",
    "1. Load and explore data\n",
    "2. Exploratory data analysis\n",
    "3. Research\n",
    "3. Reach curve modeling\n",
    "4. Evaluation method\n",
    "5. Reach Optimization\n",
    "6. Recommendations and Insights"
   ]
  },
  {
   "cell_type": "code",
   "execution_count": null,
   "metadata": {},
   "outputs": [],
   "source": [
    "import numpy as np\n",
    "import pandas as pd\n",
    "import matplotlib.pyplot as plt\n",
    "from sklearn_extra.cluster import KMedoids\n",
    "\n",
    "import warnings\n",
    "warnings.filterwarnings('ignore')"
   ]
  },
  {
   "cell_type": "markdown",
   "metadata": {},
   "source": [
    "## 1. Load and explore data"
   ]
  },
  {
   "cell_type": "code",
   "execution_count": null,
   "metadata": {},
   "outputs": [],
   "source": [
    "data = pd.read_csv(\"../data/timespends.csv\", index_col=0)\n",
    "\n",
    "TOTAL_NUM_SAMPLES = len(data)\n",
    "print(f\"No. of samples: {TOTAL_NUM_SAMPLES}\")\n",
    "print(f\"Sample:\\n {data.head()}\")\n",
    "\n",
    "\n",
    "plt.plot(sorted(data['timespends']))\n",
    "plt.title(\"Timespends (sorted)\")\n",
    "plt.show()"
   ]
  },
  {
   "cell_type": "markdown",
   "metadata": {},
   "source": [
    "### Basic observations\n",
    "\n",
    "So, the entire population comprises 10,333 samples, for which the average time spent on a particular medium was measured.\n",
    "\n",
    "The above plot reveals about 20% of sampled population doesn't use the medium at all. This means there's simply no way to reach them through this medium, and it will also set an upper limit for the reach curve (around 80%).\n",
    "\n",
    "On the other hand, about 15% of the population spends the most time on this medium compared to all other groups. This group will likely contain the highest number of individuals who will see an advertisement multiple times. Because of it - the reach curve will flatten – despite an increase in the number of impressions."
   ]
  },
  {
   "cell_type": "markdown",
   "metadata": {},
   "source": [
    "## 2. Exploratory Data Analysis"
   ]
  },
  {
   "cell_type": "code",
   "execution_count": null,
   "metadata": {},
   "outputs": [],
   "source": [
    "data['timespends'].value_counts().head(15)"
   ]
  },
  {
   "cell_type": "code",
   "execution_count": null,
   "metadata": {},
   "outputs": [],
   "source": [
    "N_CLUSTERS = 7\n",
    "X = data['timespends'].to_numpy().reshape(-1, 1)\n",
    "kmedoids = KMedoids(n_clusters=N_CLUSTERS, random_state=0, method='pam').fit(X)"
   ]
  },
  {
   "cell_type": "code",
   "execution_count": null,
   "metadata": {},
   "outputs": [],
   "source": [
    "clustered_data = data.copy()\n",
    "clustered_data['cluster'] = kmedoids.predict(X)\n",
    "clustered_data['cluster-timespend'] = clustered_data.apply(lambda row: kmedoids.cluster_centers_[int(row['cluster'])][0], axis=1)\n",
    "clustered_data.head()"
   ]
  },
  {
   "cell_type": "code",
   "execution_count": null,
   "metadata": {},
   "outputs": [],
   "source": [
    "plt.plot(sorted(clustered_data['cluster-timespend']))\n",
    "plt.title(\"Timespends (sorted) - simplified\")"
   ]
  },
  {
   "cell_type": "code",
   "execution_count": null,
   "metadata": {},
   "outputs": [],
   "source": [
    "df = pd.DataFrame(clustered_data['cluster-timespend'].value_counts())\n",
    "df.reset_index(inplace=True)\n",
    "df.sort_values(by='cluster-timespend', inplace=True, ascending=False)\n",
    "df['perc_of_total'] = df['count'] / TOTAL_NUM_SAMPLES * 100\n",
    "df['perc_of_total_cum'] = np.cumsum(df['perc_of_total'].to_numpy())\n",
    "df"
   ]
  },
  {
   "cell_type": "markdown",
   "metadata": {},
   "source": [
    "### Some observations\n",
    "1. We have 7 main user groups defined.\n",
    "2. The maximum value the reach curve will achieve is ```77%```\n",
    "3. The minimum value is 0 (it would be interesting to estimate this worst-case scenario somehow—i.e., what would be the chances that absolutely no one gets any impression even once).\n",
    "4. The reach curve is a non-decreasing curve because an impression, once received, cannot be unreceived (or taken back).\n",
    "\n",
    "However, one can imagine that if a single person receives too many impressions, the curve might not only stop growing, but also grow more slowly – if that person discourages others from using the medium."
   ]
  },
  {
   "cell_type": "markdown",
   "metadata": {},
   "source": [
    "### Simplistic scenario\n",
    "Data observations provide some insight into the approximate shape of the reach curve.\n",
    "\n",
    "Really simplistic scenario:\n",
    "There's an initial rapid growth to approximately 14 percent, followed by a similarly swift increase to 31 percent, and then to 52 percent, and so on. This offers a clearer intuition regarding the mathematical model, indicating that ```timespend``` will correspond with the reach curve's rate of growth (its derivative), whereas ```perc_of_total_cum``` will correspond to distinct points where the reach curve exhibits unique changes.\n",
    "\n",
    "I'd like to start with a simple model, even with some simplifications and additional assumptions (which I'll mention shortly), to have a reference point. After that, I'll try to incorporate more subtle elements into the model, so the assumptions better reflect the actual data I've received.\n",
    "\n",
    "Of course, in this simplified scenario, I'm assuming that people with the highest timespend (those with 0.84) will get impression first, followed by those in the next group (0.67), and so on.\n",
    "\n",
    "### A little more serious approach\n",
    "I've been thinking about this more, and I could simplify the situation for a moment by observing a group that spends a similar amount of time watching the medium. I would then consider a random variable X_i​, which assigns to each user i the number of viewed impressions. So, for the entire group, I would be dealing with a vector of random variables, for which several precise questions could be posed. Each of the individual components of this vector could follow a Bernoulli distribution with a fixed probability of success p, which would depend on the frequency of viewing that particular medium."
   ]
  },
  {
   "cell_type": "code",
   "execution_count": null,
   "metadata": {},
   "outputs": [],
   "source": [
    "splines = list()\n",
    "\n",
    "start = 0.0\n",
    "for _, row in df.iterrows():\n",
    "    if row['cluster-timespend'] == 0:\n",
    "        break\n",
    "    stop = row['perc_of_total_cum']\n",
    "    splines.append(np.arange(start=start, stop=stop, step=row['cluster-timespend']))\n",
    "    start = stop\n",
    "\n",
    "dummy_reach_curve = np.concatenate(splines)\n",
    "plt.plot(dummy_reach_curve)"
   ]
  },
  {
   "cell_type": "markdown",
   "metadata": {},
   "source": [
    "## 3. Research"
   ]
  },
  {
   "cell_type": "markdown",
   "metadata": {},
   "source": [
    "### Articles\n",
    "1. [Reach Measurement, Optimization and Frequency Capping In Targeted Online Advertising Under k-Anonymity](https://arxiv.org/pdf/2501.04882v1)\n",
    "2. [Estimating reach curves from one data point](https://static.googleusercontent.com/media/research.google.com/en//pubs/archive/43218.pdf)\n",
    "\n",
    "I chose these articles because they seemed interesting and were the easiest to find with the browser. I wanted to familiarize myself a bit more with the way of thinking and the general problems associated with modeling reach curves, as well as the methods specialists use. It looks quite interesting!"
   ]
  },
  {
   "cell_type": "markdown",
   "metadata": {},
   "source": [
    "## 4. Reach Curve Modeling"
   ]
  },
  {
   "cell_type": "code",
   "execution_count": null,
   "metadata": {},
   "outputs": [],
   "source": [
    "def reach_curve(impressions: float) -> float:\n",
    "    raise NotImplementedError"
   ]
  },
  {
   "cell_type": "markdown",
   "metadata": {},
   "source": [
    "## 5. Evaluation method"
   ]
  },
  {
   "cell_type": "markdown",
   "metadata": {},
   "source": [
    "## 6. Reach Optimization"
   ]
  },
  {
   "cell_type": "markdown",
   "metadata": {},
   "source": [
    "## 7. Recommendations and Insights\n",
    "\n",
    "Based on the reach curve analysis:\n",
    "\n",
    "1. **Optimal impression levels**: The marginal reach decreases as impressions increase\n",
    "2. **Cost efficiency**: There's a sweet spot for cost-efficient reach\n",
    "3. **Model selection**: Choose the model with better fit for your data\n",
    "\n",
    "### Next Steps:\n",
    "- Segment analysis by campaign type\n",
    "- Time-series analysis of reach patterns\n",
    "- Multi-channel reach optimization"
   ]
  }
 ],
 "metadata": {
  "kernelspec": {
   "display_name": "venv",
   "language": "python",
   "name": "python3"
  },
  "language_info": {
   "codemirror_mode": {
    "name": "ipython",
    "version": 3
   },
   "file_extension": ".py",
   "mimetype": "text/x-python",
   "name": "python",
   "nbconvert_exporter": "python",
   "pygments_lexer": "ipython3",
   "version": "3.12.3"
  }
 },
 "nbformat": 4,
 "nbformat_minor": 4
}
