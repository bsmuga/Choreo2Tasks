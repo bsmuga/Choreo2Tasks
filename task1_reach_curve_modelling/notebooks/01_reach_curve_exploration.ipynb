{
 "cells": [
  {
   "cell_type": "markdown",
   "metadata": {},
   "source": [
    "# Reach Curve Modeling Based On Timespends Data\n",
    " \n",
    "This notebook explores and models reach curve.\n",
    "\n",
    "## Objectives:\n",
    "1. Load and explore data\n",
    "2. Exploratory data analysis\n",
    "3. Research\n",
    "3. Reach curve modeling\n",
    "4. Evaluation method\n",
    "5. Reach Optimization\n",
    "6. Recommendations and Insights"
   ]
  },
  {
   "cell_type": "code",
   "execution_count": null,
   "metadata": {},
   "outputs": [],
   "source": [
    "import numpy as np\n",
    "import pandas as pd\n",
    "import matplotlib.pyplot as plt\n",
    "from sklearn_extra.cluster import KMedoids\n",
    "\n",
    "import warnings\n",
    "warnings.filterwarnings('ignore')"
   ]
  },
  {
   "cell_type": "markdown",
   "metadata": {},
   "source": [
    "## 1. Load and explore data"
   ]
  },
  {
   "cell_type": "code",
   "execution_count": null,
   "metadata": {},
   "outputs": [],
   "source": [
    "data = pd.read_csv(\"../data/timespends.csv\", index_col=0)\n",
    "\n",
    "TOTAL_NUM_SAMPLES = len(data)\n",
    "print(f\"No. of samples: {TOTAL_NUM_SAMPLES}\")\n",
    "print(f\"Sample:\\n {data.head()}\")\n",
    "\n",
    "\n",
    "plt.plot(sorted(data['timespends']))\n",
    "plt.title(\"Timespends (sorted)\")\n",
    "plt.show()"
   ]
  },
  {
   "cell_type": "markdown",
   "metadata": {},
   "source": [
    "### Basic observations\n",
    "\n",
    "So, the entire population comprises 10,333 samples, for which the average time spent on a particular medium was measured.\n",
    "\n",
    "The above plot reveals about 20% of sampled population doesn't use the medium at all. \n",
    "This means there's simply no way to reach them through this medium, and it will also set an upper limit for the reach curve (around 80%).\n",
    "\n",
    "On the other hand, about 15% of the population spends the most time on this medium compared to all other groups. \n",
    "This group will likely contain the highest number of individuals who will see an advertisement multiple times. \n",
    "Because of it - the reach curve will flatten – despite an increase in the number of impressions."
   ]
  },
  {
   "cell_type": "markdown",
   "metadata": {},
   "source": [
    "## 2. Exploratory Data Analysis"
   ]
  },
  {
   "cell_type": "code",
   "execution_count": null,
   "metadata": {},
   "outputs": [],
   "source": [
    "data['timespends'].value_counts().head(15)"
   ]
  },
  {
   "cell_type": "code",
   "execution_count": null,
   "metadata": {},
   "outputs": [],
   "source": [
    "print(\"Zero time users are {:.2f} % of all users.\".format(np.sum(data['timespends'] == 0) / len(data) * 100))"
   ]
  },
  {
   "cell_type": "code",
   "execution_count": null,
   "metadata": {},
   "outputs": [],
   "source": [
    "N_CLUSTERS = 7\n",
    "X = data['timespends'].to_numpy().reshape(-1, 1)\n",
    "kmedoids = KMedoids(n_clusters=N_CLUSTERS, random_state=0, method='pam').fit(X)"
   ]
  },
  {
   "cell_type": "code",
   "execution_count": null,
   "metadata": {},
   "outputs": [],
   "source": [
    "clustered_data = data.copy()\n",
    "clustered_data['cluster'] = kmedoids.predict(X)\n",
    "clustered_data['cluster-timespend'] = clustered_data.apply(lambda row: kmedoids.cluster_centers_[int(row['cluster'])][0], axis=1)\n",
    "clustered_data.head()"
   ]
  },
  {
   "cell_type": "code",
   "execution_count": null,
   "metadata": {},
   "outputs": [],
   "source": [
    "plt.plot(sorted(clustered_data['cluster-timespend']))\n",
    "plt.title(\"Timespends (sorted) - clustered\")"
   ]
  },
  {
   "cell_type": "code",
   "execution_count": null,
   "metadata": {},
   "outputs": [],
   "source": [
    "df = pd.DataFrame(clustered_data['cluster-timespend'].value_counts())\n",
    "df.reset_index(inplace=True)\n",
    "df.sort_values(by='cluster-timespend', inplace=True, ascending=False)\n",
    "df['perc_of_total'] = df['count'] / TOTAL_NUM_SAMPLES * 100\n",
    "df['perc_of_total_cum'] = np.cumsum(df['perc_of_total'].to_numpy())\n",
    "df"
   ]
  },
  {
   "cell_type": "markdown",
   "metadata": {},
   "source": [
    "### Observations\n",
    "1. We have 7 main user groups defined.\n",
    "2. The maximum value the reach curve will achieve is ```79.45%```\n",
    "3. The minimum value is 0 (it would be interesting to estimate this worst-case scenario somehow — i.e., what would be the chances that absolutely no one gets any impression even once).\n",
    "4. The reach curve is a non-decreasing curve because an impression, once received, cannot be unreceived (or taken back)."
   ]
  },
  {
   "cell_type": "markdown",
   "metadata": {},
   "source": [
    "## 3. Research"
   ]
  },
  {
   "cell_type": "markdown",
   "metadata": {},
   "source": [
    "### Articles - a brief literature overview\n",
    "1. [Reach Measurement, Optimization and Frequency Capping In Targeted Online Advertising Under k-Anonymity](https://arxiv.org/pdf/2501.04882v1)\n",
    "2. [Estimating reach curves from one data point](https://static.googleusercontent.com/media/research.google.com/en//pubs/archive/43218.pdf)\n",
    "3. [Privacy-centric Cross-publisher Reach and Frequency Estimation Via Vector of Counts](https://storage.googleapis.com/gweb-research2023-media/pubtools/6039.pdf#cite.kreuter2020privacy)\n",
    "4. [Privacy-Preserving Secure Cardinality and Frequency Estimation](https://storage.googleapis.com/gweb-research2023-media/pubtools/5611.pdf)\n",
    "5. [Virtual People: Actionable Reach Modeling](https://research.google/pubs/virtual-people-actionable-reach-modeling/)\n",
    "6. [Measuring Cross-Device Online Audiences](https://research.google/pubs/measuring-cross-device-online-audiences/)\n",
    "7. [Scalable Multi-objective Optimization in Programmatic Advertising via Feedback Control](https://www.researchgate.net/publication/356879928_Scalable_Multi-objective_Optimization_in_Programmatic_Advertising_via_Feedback_Control)\n",
    "\n",
    "These are articles I found while searching for topics related to reach curve modeling. While there's only one curve, it's a surprisingly broad subject with fascinating modeling."
   ]
  },
  {
   "cell_type": "markdown",
   "metadata": {},
   "source": [
    "## 4. Simulation of reach curve\n",
    "To better understand the problem, it's worth considering running a simulation.\n",
    "\n",
    "The idea is to treat impressions as something requested by a given user who uses a particular medium - this user is sampled from the entire set of users.\n",
    "\n",
    "It's important to note that the sampling will not include users who do not use the given medium."
   ]
  },
  {
   "cell_type": "markdown",
   "metadata": {},
   "source": [
    "### Mathematical Framework\n",
    "\n",
    "Let's define our mathematical framework:\n",
    "\n",
    "- **User space**: $\\Omega = \\{0, 1, ..., 10332\\}$ - all users\n",
    "- **Random variable for time spent**: $X: \\Omega \\to \\mathbb{R}$, where $X(\\omega_i) = $ average time spent by user $i$\n",
    "- **Random variable for impression probability**: $Y: \\Omega \\to \\mathbb{R}$, where $Y(\\omega_i) = p_i$ - i.e. probability that user $i$ requested impression\n",
    "- **Conditional probability**: $P(Y = i | X > 0) = \\frac{P(X > 0 | Y = i) \\cdot P(Y = i)}{P(X > 0)}$ - probability that user i requested impression considering that nonzero spending time."
   ]
  },
  {
   "cell_type": "markdown",
   "metadata": {},
   "source": [
    "## 1. Mathematical Framework\n",
    "\n",
    "### State Space and Random Variables\n",
    "- $\\Omega = \\{0, 1, ..., N - 1\\}$ - user population, where $N = 10333$\n",
    "- $X: \\Omega -> \\mathbb{R}$ - random variable $X$ to annotate timespend of user $i$\n",
    "- $\\mathcal{A} = \\{\\omega_i \\in \\Omega : X(\\omega_i) > 0\\}$ - active users who can see ads\n",
    "- $S_n \\subseteq \\Omega$ - set of users reached after $n$ impressions\n",
    "- $R(n) = |S_n|$ - reach function (or $|S_n| / |\\Omega| * 100$%)\n",
    "\n",
    "### Impression Allocation Process\n",
    "Each impression $n$ selects user $U_n$ with probability:\n",
    "$$P(U_n = i) = \\begin{cases}\n",
    "\\frac{X_i}{\\sum_{j \\in \\mathcal{A}} X_j} & \\text{if } i \\in \\mathcal{A} \\\\\n",
    "0 & \\text{otherwise}\n",
    "\\end{cases}$$\n",
    "\n",
    "### Reach Evolution\n",
    "- $S_0 = \\emptyset$\n",
    "- $S_{n+1} = S_n \\cup \\{U_n\\}$\n",
    "- $R(n) = |S_n|$ is non-decreasing with $R(n) \\leq |\\mathcal{A}|$"
   ]
  },
  {
   "cell_type": "markdown",
   "metadata": {},
   "source": [
    "### Simulation"
   ]
  },
  {
   "cell_type": "code",
   "execution_count": null,
   "metadata": {},
   "outputs": [],
   "source": [
    "class StochasticReachSimulator:\n",
    "    \"\"\"\n",
    "    Simulates reach curve using stochastic process based on user timespends.\n",
    "\n",
    "    Note: Probabilities for active users are \n",
    "    directly related to their time spent on the medium.\n",
    "    \"\"\"\n",
    "    \n",
    "    def __init__(self, timespends):\n",
    "        self.timespends = timespends\n",
    "        self.total_users = len(timespends)\n",
    "        \n",
    "        self.active_mask = timespends > 0\n",
    "        self.active_indices = np.where(self.active_mask)[0]\n",
    "        self.active_timespends = timespends[self.active_mask]\n",
    "        \n",
    "        # TODO: it's good idea to think out about some startegy\n",
    "        self.probabilities = self.active_timespends / np.sum(self.active_timespends)\n",
    "        self.max_reach = len(self.active_indices)\n",
    "        \n",
    "    def simulate_single_run(self, n_impressions: int) -> tuple[np.array, set[int]]:\n",
    "        \"\"\"\n",
    "        Simulate a single run of the reach process.\n",
    "        \n",
    "        Returns:\n",
    "            reach_curve: array of reach values at each impression\n",
    "            reached_users: set of users reached\n",
    "\n",
    "        \"\"\"\n",
    "        reached_users = set()\n",
    "        reach_curve = np.zeros(n_impressions + 1)\n",
    "        \n",
    "        for i in range(n_impressions):\n",
    "            selected_user_idx = np.random.choice(\n",
    "                self.active_indices, \n",
    "                p=self.probabilities\n",
    "            )\n",
    "            \n",
    "            reached_users.add(selected_user_idx)\n",
    "            reach_curve[i + 1] = len(reached_users)\n",
    "            \n",
    "        return reach_curve, reached_users\n",
    "    \n",
    "    def simulate_multiple_runs(self, n_impressions: int, n_runs: int) -> np.array:\n",
    "        \"\"\"\n",
    "        Simulate multiple runs to get distribution of reach curves.\n",
    "        \"\"\"\n",
    "        reach_curves = np.zeros((n_runs, n_impressions + 1))\n",
    "        \n",
    "        for run in tqdm(range(n_runs), desc=\"Simulating runs\"):\n",
    "            reach_curve, _ = self.simulate_single_run(n_impressions)\n",
    "            reach_curves[run] = reach_curve\n",
    "            \n",
    "        return reach_curves\n",
    "    \n",
    "    def compute_expected_reach(self, n_impressions: int) -> np.array:\n",
    "        \"\"\"\n",
    "        Compute theoretical expected reach using inclusion-exclusion principle.\n",
    "        For large n, this approximates to: E[R(n)] ≈ M * (1 - exp(-n/M))\n",
    "        where M is the number of active users.\n",
    "        \"\"\"\n",
    "        prob_not_reached = (1 - self.probabilities) ** n_impressions\n",
    "        expected_reach = self.max_reach - np.sum(prob_not_reached)\n",
    "        \n",
    "        return expected_reach"
   ]
  },
  {
   "cell_type": "code",
   "execution_count": null,
   "metadata": {},
   "outputs": [],
   "source": [
    "simulator = StochasticReachSimulator(timespends)\n",
    "\n",
    "N_IMPRESSIONS = 30_000\n",
    "N_RUNS = 2_000\n",
    "\n",
    "reach_curves = simulator.simulate_multiple_runs(N_IMPRESSIONS, N_RUNS)"
   ]
  },
  {
   "cell_type": "markdown",
   "metadata": {},
   "source": [
    "## 4. Analyze Results"
   ]
  },
  {
   "cell_type": "code",
   "execution_count": null,
   "metadata": {},
   "outputs": [],
   "source": [
    "mean_reach = np.mean(reach_curves, axis=0)\n",
    "std_reach = np.std(reach_curves, axis=0)\n",
    "percentile_5 = np.percentile(reach_curves, 5, axis=0)\n",
    "percentile_95 = np.percentile(reach_curves, 95, axis=0)\n",
    "\n",
    "impressions = np.arange(N_IMPRESSIONS + 1)\n",
    "\n",
    "plt.figure(figsize=(12, 8))\n",
    "\n",
    "for i in range(min(10, N_RUNS)):\n",
    "    plt.plot(impressions, reach_curves[i], alpha=0.1, color='gray')\n",
    "\n",
    "plt.plot(impressions, mean_reach, 'b-', linewidth=2, label='Mean reach')\n",
    "plt.fill_between(impressions, percentile_5, percentile_95, \n",
    "                 alpha=0.2, color='blue', label='90% confidence interval')\n",
    "plt.fill_between(impressions, percentile_15, percentile_85, \n",
    "                 alpha=0.2, color='red', label='90% confidence interval')                 \n",
    "\n",
    "plt.axhline(y=simulator.max_reach, color='r', linestyle='--', \n",
    "            label=f'Maximum possible reach: {simulator.max_reach:,}')\n",
    "\n",
    "plt.xlabel('Number of Impressions')\n",
    "plt.ylabel('Reach (Unique Users)')\n",
    "plt.title('Stochastic Reach Curve Simulation')\n",
    "plt.legend()\n",
    "plt.grid(True, alpha=0.3)\n",
    "plt.show()"
   ]
  },
  {
   "cell_type": "markdown",
   "metadata": {},
   "source": [
    "## 5. Reach Efficiency Analysis"
   ]
  },
  {
   "cell_type": "code",
   "execution_count": null,
   "metadata": {},
   "outputs": [],
   "source": [
    "reach_pct_total = mean_reach / simulator.total_users * 100\n",
    "reach_pct_active = mean_reach / simulator.max_reach * 100\n",
    "\n",
    "marginal_reach = np.diff(mean_reach)\n",
    "\n",
    "fig, (ax1, ax2) = plt.subplots(2, 1, figsize=(12, 10))\n",
    "\n",
    "ax1.plot(impressions, reach_pct_total, 'b-', linewidth=2, \n",
    "         label='% of total population')\n",
    "ax1.plot(impressions, reach_pct_active, 'g-', linewidth=2, \n",
    "         label='% of active users')\n",
    "ax1.set_xlabel('Number of Impressions')\n",
    "ax1.set_ylabel('Reach (%)')\n",
    "ax1.set_title('Reach as Percentage of Population')\n",
    "ax1.legend()\n",
    "ax1.grid(True, alpha=0.3)\n",
    "\n",
    "ax2.semilogy(impressions[1:1000], marginal_reach[:999], 'r-', linewidth=2)\n",
    "ax2.set_xlabel('Number of Impressions')\n",
    "ax2.set_ylabel('Marginal Reach (log scale)')\n",
    "ax2.set_title('Marginal Reach (Additional Users per Impression)')\n",
    "ax2.grid(True, alpha=0.3)\n",
    "\n",
    "plt.tight_layout()\n",
    "plt.show()"
   ]
  },
  {
   "cell_type": "markdown",
   "metadata": {},
   "source": [
    "## 6. Theoretical vs Empirical Comparison"
   ]
  },
  {
   "cell_type": "code",
   "execution_count": null,
   "metadata": {},
   "outputs": [],
   "source": [
    "impression_points = np.logspace(1, np.log10(N_IMPRESSIONS), 50).astype(int)\n",
    "theoretical_reach = []\n",
    "\n",
    "for n in impression_points:\n",
    "    expected = simulator.compute_expected_reach(n)\n",
    "    theoretical_reach.append(expected)\n",
    "\n",
    "theoretical_reach = np.array(theoretical_reach)\n",
    "\n",
    "plt.figure(figsize=(12, 8))\n",
    "\n",
    "plt.plot(impressions, mean_reach, 'b-', linewidth=2, \n",
    "         label='Empirical (simulation mean)', alpha=0.8)\n",
    "\n",
    "plt.plot(impression_points, theoretical_reach, 'ro--', \n",
    "         markersize=6, linewidth=2, label='Theoretical expected reach')\n",
    "\n",
    "plt.axhline(y=simulator.max_reach, color='g', linestyle='--', \n",
    "            label=f'Maximum: {simulator.max_reach:,}')\n",
    "\n",
    "plt.xlabel('Number of Impressions')\n",
    "plt.ylabel('Reach (Unique Users)')\n",
    "plt.title('Theoretical vs Empirical Reach Curves')\n",
    "plt.legend()\n",
    "plt.grid(True, alpha=0.3)\n",
    "plt.xlim(0, N_IMPRESSIONS)\n",
    "plt.show()"
   ]
  },
  {
   "cell_type": "markdown",
   "metadata": {},
   "source": [
    "## 7. User Segment Analysis"
   ]
  },
  {
   "cell_type": "code",
   "execution_count": null,
   "metadata": {},
   "outputs": [],
   "source": [
    "n_impressions_detail = 20000\n",
    "reached_users_tracker = {}\n",
    "impression_counts = np.zeros(simulator.total_users)\n",
    "\n",
    "for i in range(n_impressions_detail):\n",
    "    selected_user = np.random.choice(simulator.active_indices, p=simulator.probabilities)\n",
    "    impression_counts[selected_user] += 1\n",
    "    \n",
    "    if selected_user not in reached_users_tracker:\n",
    "        reached_users_tracker[selected_user] = i + 1\n",
    "\n",
    "active_timespends = timespends[timespends > 0]\n",
    "quartiles = np.percentile(active_timespends, [25, 50, 75])\n",
    "\n",
    "user_categories = np.zeros(len(timespends))\n",
    "user_categories[timespends == 0] = 0\n",
    "user_categories[(timespends > 0) & (timespends <= quartiles[0])] = 1\n",
    "user_categories[(timespends > quartiles[0]) & (timespends <= quartiles[1])] = 2  \n",
    "user_categories[(timespends > quartiles[1]) & (timespends <= quartiles[2])] = 3\n",
    "user_categories[timespends > quartiles[2]] = 4\n",
    "\n",
    "fig, (ax1, ax2) = plt.subplots(1, 2, figsize=(15, 6))\n",
    "\n",
    "categories = ['Zero', 'Low', 'Med-Low', 'Med-High', 'High']\n",
    "avg_impressions = []\n",
    "reach_rates = []\n",
    "\n",
    "for cat in range(5):\n",
    "    mask = user_categories == cat\n",
    "    avg_impressions.append(np.mean(impression_counts[mask]))\n",
    "    \n",
    "    if cat == 0:\n",
    "        reach_rates.append(0)\n",
    "    else:\n",
    "        users_in_cat = np.where(mask)[0]\n",
    "        reached_in_cat = sum(1 for u in users_in_cat if u in reached_users_tracker)\n",
    "        reach_rates.append(reached_in_cat / len(users_in_cat) * 100)\n",
    "\n",
    "ax1.bar(categories, avg_impressions, color=['red', 'orange', 'yellow', 'lightgreen', 'green'])\n",
    "ax1.set_xlabel('User Category (by timespend)')\n",
    "ax1.set_ylabel('Average Impressions per User')\n",
    "ax1.set_title(f'Impression Distribution ({n_impressions_detail:,} total impressions)')\n",
    "\n",
    "ax2.bar(categories, reach_rates, color=['red', 'orange', 'yellow', 'lightgreen', 'green'])\n",
    "ax2.set_xlabel('User Category (by timespend)')\n",
    "ax2.set_ylabel('Reach Rate (%)')\n",
    "ax2.set_title('Reach Rate by User Category')\n",
    "\n",
    "plt.tight_layout()\n",
    "plt.show()"
   ]
  },
  {
   "cell_type": "markdown",
   "metadata": {},
   "source": [
    "## 8. Optimization Insights"
   ]
  },
  {
   "cell_type": "code",
   "execution_count": null,
   "metadata": {},
   "outputs": [],
   "source": [
    "reach_targets = [0.3, 0.4, 0.5, 0.6, 0.7]\n",
    "optimal_impressions = []\n",
    "\n",
    "for target in reach_targets:\n",
    "    target_reach = target * simulator.max_reach\n",
    "    idx = np.where(mean_reach >= target_reach)[0]\n",
    "    if len(idx) > 0:\n",
    "        optimal_impressions.append(idx[0])\n",
    "    else:\n",
    "        optimal_impressions.append(None)\n",
    "\n",
    "print(\"Reach Optimization Report\")\n",
    "print(\"=\" * 50)\n",
    "print(f\"Total users: {simulator.total_users:,}\")\n",
    "print(f\"Active users: {simulator.max_reach:,} ({simulator.max_reach/simulator.total_users*100:.1f}%)\")\n",
    "print(\"\\nOptimal impression counts for reach targets:\")\n",
    "print(\"-\" * 50)\n",
    "\n",
    "for target, impressions in zip(reach_targets, optimal_impressions):\n",
    "    if impressions is not None:\n",
    "        actual_reach = mean_reach[impressions]\n",
    "        efficiency = actual_reach / impressions if impressions > 0 else 0\n",
    "        print(f\"Target: {target*100:.0f}% of active users ({target*simulator.max_reach:.0f} users)\")\n",
    "        print(f\"  → Impressions needed: {impressions:,}\")\n",
    "        print(f\"  → Actual reach: {actual_reach:.0f} ({actual_reach/simulator.total_users*100:.1f}% of total)\")\n",
    "        print(f\"  → Efficiency: {efficiency:.4f} unique users per impression\")\n",
    "        print()"
   ]
  },
  {
   "cell_type": "markdown",
   "metadata": {},
   "source": [
    "## 9. Key Findings and Recommendations\n",
    "\n",
    "1. **Non-linear growth**: Reach grows rapidly initially then saturates\n",
    "2. **Diminishing returns**: Marginal reach decreases exponentially\n",
    "3. **User heterogeneity**: High-timespend users receive disproportionate impressions\n",
    "4. **Coverage limit**: Maximum reach is constrained by active user population\n",
    "\n",
    "1. **Early impressions are most valuable**: Focus budget on initial reach\n",
    "2. **Frequency capping**: Consider limiting impressions per user to improve efficiency\n",
    "3. **Segment targeting**: Target low-timespend users explicitly to improve coverage\n",
    "4. **Budget allocation**: Use marginal reach curves to optimize spend\n",
    "\n",
    "- The reach process follows approximately: $R(n) ≈ M(1 - e^{-λn/M})$\n",
    "- Where $M$ is max reach and $λ$ relates to the heterogeneity of user timespends\n",
    "- High variance in timespends leads to slower saturation"
   ]
  },
  {
   "cell_type": "markdown",
   "metadata": {},
   "source": [
    "## 10. Interesting questions\n",
    "1. What is expected number of impressions to achieve all active users?\n",
    "2. What is the probability of reach equal to zero for k impressions?\n",
    "3. Are there other alternatives or models?"
   ]
  }
 ],
 "metadata": {
  "kernelspec": {
   "display_name": "venv",
   "language": "python",
   "name": "python3"
  },
  "language_info": {
   "codemirror_mode": {
    "name": "ipython",
    "version": 3
   },
   "file_extension": ".py",
   "mimetype": "text/x-python",
   "name": "python",
   "nbconvert_exporter": "python",
   "pygments_lexer": "ipython3",
   "version": "3.12.3"
  }
 },
 "nbformat": 4,
 "nbformat_minor": 4
}
