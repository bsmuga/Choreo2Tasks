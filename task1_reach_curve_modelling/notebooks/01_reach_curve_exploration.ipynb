{
 "cells": [
  {
   "cell_type": "markdown",
   "metadata": {},
   "source": [
    "# Reach Curve Exploration and Modeling\n",
    "\n",
    "This notebook explores and models reach curves for marketing analytics.\n",
    "\n",
    "## Objectives:\n",
    "1. Load and explore reach curve data\n",
    "2. Visualize reach patterns\n",
    "3. Build predictive models\n",
    "4. Evaluate model performance"
   ]
  },
  {
   "cell_type": "code",
   "execution_count": null,
   "metadata": {},
   "outputs": [],
   "source": [
    "# Import necessary libraries\n",
    "import numpy as np\n",
    "import pandas as pd\n",
    "import matplotlib.pyplot as plt\n",
    "import seaborn as sns\n",
    "from sklearn.model_selection import train_test_split\n",
    "from sklearn.metrics import r2_score, mean_squared_error\n",
    "import warnings\n",
    "warnings.filterwarnings('ignore')\n",
    "\n",
    "# Set plotting style\n",
    "plt.style.use('seaborn-v0_8-darkgrid')\n",
    "sns.set_palette('husl')"
   ]
  },
  {
   "cell_type": "markdown",
   "metadata": {},
   "source": [
    "## 1. Data Loading and Exploration"
   ]
  },
  {
   "cell_type": "code",
   "execution_count": null,
   "metadata": {},
   "outputs": [],
   "source": [
    "# Load reach curve data\n",
    "# Replace with actual data path\n",
    "# data = pd.read_csv('../data/reach_curve_data.csv')\n",
    "\n",
    "# Generate sample data for demonstration\n",
    "np.random.seed(42)\n",
    "n_samples = 1000\n",
    "\n",
    "# Simulate reach curve data\n",
    "impressions = np.random.exponential(10000, n_samples)\n",
    "frequency = np.random.poisson(3, n_samples) + 1\n",
    "reach = impressions / frequency * (1 - np.exp(-frequency/10)) * np.random.uniform(0.8, 1.2, n_samples)\n",
    "\n",
    "data = pd.DataFrame({\n",
    "    'campaign_id': range(n_samples),\n",
    "    'impressions': impressions,\n",
    "    'frequency': frequency,\n",
    "    'reach': reach,\n",
    "    'cost': impressions * np.random.uniform(0.001, 0.005, n_samples)\n",
    "})\n",
    "\n",
    "print(\"Data shape:\", data.shape)\n",
    "data.head()"
   ]
  },
  {
   "cell_type": "code",
   "execution_count": null,
   "metadata": {},
   "outputs": [],
   "source": [
    "# Basic statistics\n",
    "data.describe()"
   ]
  },
  {
   "cell_type": "markdown",
   "metadata": {},
   "source": [
    "## 2. Exploratory Data Analysis"
   ]
  },
  {
   "cell_type": "code",
   "execution_count": null,
   "metadata": {},
   "outputs": [],
   "source": [
    "# Visualize distributions\n",
    "fig, axes = plt.subplots(2, 2, figsize=(12, 10))\n",
    "\n",
    "data['impressions'].hist(bins=50, ax=axes[0, 0])\n",
    "axes[0, 0].set_title('Distribution of Impressions')\n",
    "axes[0, 0].set_xlabel('Impressions')\n",
    "\n",
    "data['reach'].hist(bins=50, ax=axes[0, 1])\n",
    "axes[0, 1].set_title('Distribution of Reach')\n",
    "axes[0, 1].set_xlabel('Reach')\n",
    "\n",
    "data['frequency'].hist(bins=20, ax=axes[1, 0])\n",
    "axes[1, 0].set_title('Distribution of Frequency')\n",
    "axes[1, 0].set_xlabel('Frequency')\n",
    "\n",
    "# Reach vs Impressions\n",
    "axes[1, 1].scatter(data['impressions'], data['reach'], alpha=0.5)\n",
    "axes[1, 1].set_xlabel('Impressions')\n",
    "axes[1, 1].set_ylabel('Reach')\n",
    "axes[1, 1].set_title('Reach vs Impressions')\n",
    "\n",
    "plt.tight_layout()\n",
    "plt.show()"
   ]
  },
  {
   "cell_type": "markdown",
   "metadata": {},
   "source": [
    "## 3. Reach Curve Modeling"
   ]
  },
  {
   "cell_type": "code",
   "execution_count": null,
   "metadata": {},
   "outputs": [],
   "source": [
    "# Define reach curve function\n",
    "def reach_curve(impressions, a, b, c):\n",
    "    \"\"\"\n",
    "    Logarithmic reach curve model\n",
    "    reach = a * log(1 + b * impressions) + c\n",
    "    \"\"\"\n",
    "    return a * np.log(1 + b * impressions) + c\n",
    "\n",
    "# Alternative: Saturation curve\n",
    "def saturation_curve(impressions, k, n):\n",
    "    \"\"\"\n",
    "    Saturation reach curve model\n",
    "    reach = impressions / (k + impressions) * n\n",
    "    \"\"\"\n",
    "    return impressions / (k + impressions) * n"
   ]
  },
  {
   "cell_type": "code",
   "execution_count": null,
   "metadata": {},
   "outputs": [],
   "source": [
    "# Fit models using scipy\n",
    "from scipy.optimize import curve_fit\n",
    "\n",
    "# Prepare data\n",
    "X = data['impressions'].values\n",
    "y = data['reach'].values\n",
    "\n",
    "# Fit logarithmic model\n",
    "popt_log, _ = curve_fit(reach_curve, X, y, p0=[1000, 0.001, 0])\n",
    "print(f\"Logarithmic model parameters: a={popt_log[0]:.2f}, b={popt_log[1]:.6f}, c={popt_log[2]:.2f}\")\n",
    "\n",
    "# Fit saturation model\n",
    "popt_sat, _ = curve_fit(saturation_curve, X, y, p0=[1000, 10000])\n",
    "print(f\"Saturation model parameters: k={popt_sat[0]:.2f}, n={popt_sat[1]:.2f}\")"
   ]
  },
  {
   "cell_type": "code",
   "execution_count": null,
   "metadata": {},
   "outputs": [],
   "source": [
    "# Visualize fitted curves\n",
    "plt.figure(figsize=(12, 6))\n",
    "\n",
    "# Sort for smooth curve plotting\n",
    "sort_idx = np.argsort(X)\n",
    "X_sorted = X[sort_idx]\n",
    "y_sorted = y[sort_idx]\n",
    "\n",
    "# Plot data\n",
    "plt.scatter(X, y, alpha=0.3, label='Actual data')\n",
    "\n",
    "# Plot fitted curves\n",
    "y_pred_log = reach_curve(X_sorted, *popt_log)\n",
    "y_pred_sat = saturation_curve(X_sorted, *popt_sat)\n",
    "\n",
    "plt.plot(X_sorted, y_pred_log, 'r-', linewidth=2, label='Logarithmic model')\n",
    "plt.plot(X_sorted, y_pred_sat, 'g-', linewidth=2, label='Saturation model')\n",
    "\n",
    "plt.xlabel('Impressions')\n",
    "plt.ylabel('Reach')\n",
    "plt.title('Reach Curve Models')\n",
    "plt.legend()\n",
    "plt.grid(True, alpha=0.3)\n",
    "plt.show()"
   ]
  },
  {
   "cell_type": "markdown",
   "metadata": {},
   "source": [
    "## 4. Model Evaluation"
   ]
  },
  {
   "cell_type": "code",
   "execution_count": null,
   "metadata": {},
   "outputs": [],
   "source": [
    "# Calculate model performance metrics\n",
    "y_pred_log_all = reach_curve(X, *popt_log)\n",
    "y_pred_sat_all = saturation_curve(X, *popt_sat)\n",
    "\n",
    "# R-squared\n",
    "r2_log = r2_score(y, y_pred_log_all)\n",
    "r2_sat = r2_score(y, y_pred_sat_all)\n",
    "\n",
    "# RMSE\n",
    "rmse_log = np.sqrt(mean_squared_error(y, y_pred_log_all))\n",
    "rmse_sat = np.sqrt(mean_squared_error(y, y_pred_sat_all))\n",
    "\n",
    "print(\"Model Performance:\")\n",
    "print(f\"\\nLogarithmic Model:\")\n",
    "print(f\"  R-squared: {r2_log:.4f}\")\n",
    "print(f\"  RMSE: {rmse_log:.2f}\")\n",
    "print(f\"\\nSaturation Model:\")\n",
    "print(f\"  R-squared: {r2_sat:.4f}\")\n",
    "print(f\"  RMSE: {rmse_sat:.2f}\")"
   ]
  },
  {
   "cell_type": "markdown",
   "metadata": {},
   "source": [
    "## 5. Reach Optimization"
   ]
  },
  {
   "cell_type": "code",
   "execution_count": null,
   "metadata": {},
   "outputs": [],
   "source": [
    "# Calculate marginal reach (derivative)\n",
    "def marginal_reach_log(impressions, a, b, c):\n",
    "    \"\"\"Derivative of logarithmic reach curve\"\"\"\n",
    "    return a * b / (1 + b * impressions)\n",
    "\n",
    "def marginal_reach_sat(impressions, k, n):\n",
    "    \"\"\"Derivative of saturation reach curve\"\"\"\n",
    "    return n * k / ((k + impressions) ** 2)\n",
    "\n",
    "# Calculate cost efficiency\n",
    "impressions_range = np.linspace(100, 50000, 1000)\n",
    "marginal_log = marginal_reach_log(impressions_range, *popt_log)\n",
    "marginal_sat = marginal_reach_sat(impressions_range, *popt_sat)\n",
    "\n",
    "# Assume cost per impression\n",
    "cost_per_impression = 0.003\n",
    "marginal_cost_efficiency_log = marginal_log / cost_per_impression\n",
    "marginal_cost_efficiency_sat = marginal_sat / cost_per_impression"
   ]
  },
  {
   "cell_type": "code",
   "execution_count": null,
   "metadata": {},
   "outputs": [],
   "source": [
    "# Plot marginal reach and cost efficiency\n",
    "fig, (ax1, ax2) = plt.subplots(2, 1, figsize=(12, 10))\n",
    "\n",
    "# Marginal reach\n",
    "ax1.plot(impressions_range, marginal_log, 'r-', label='Logarithmic model')\n",
    "ax1.plot(impressions_range, marginal_sat, 'g-', label='Saturation model')\n",
    "ax1.set_xlabel('Impressions')\n",
    "ax1.set_ylabel('Marginal Reach')\n",
    "ax1.set_title('Marginal Reach vs Impressions')\n",
    "ax1.legend()\n",
    "ax1.grid(True, alpha=0.3)\n",
    "\n",
    "# Cost efficiency\n",
    "ax2.plot(impressions_range, marginal_cost_efficiency_log, 'r-', label='Logarithmic model')\n",
    "ax2.plot(impressions_range, marginal_cost_efficiency_sat, 'g-', label='Saturation model')\n",
    "ax2.set_xlabel('Impressions')\n",
    "ax2.set_ylabel('Marginal Reach per Dollar')\n",
    "ax2.set_title('Cost Efficiency vs Impressions')\n",
    "ax2.legend()\n",
    "ax2.grid(True, alpha=0.3)\n",
    "\n",
    "plt.tight_layout()\n",
    "plt.show()"
   ]
  },
  {
   "cell_type": "markdown",
   "metadata": {},
   "source": [
    "## 6. Recommendations and Insights\n",
    "\n",
    "Based on the reach curve analysis:\n",
    "\n",
    "1. **Optimal impression levels**: The marginal reach decreases as impressions increase\n",
    "2. **Cost efficiency**: There's a sweet spot for cost-efficient reach\n",
    "3. **Model selection**: Choose the model with better fit for your data\n",
    "\n",
    "### Next Steps:\n",
    "- Segment analysis by campaign type\n",
    "- Time-series analysis of reach patterns\n",
    "- Multi-channel reach optimization"
   ]
  }
 ],
 "metadata": {
  "kernelspec": {
   "display_name": "Python 3",
   "language": "python",
   "name": "python3"
  },
  "language_info": {
   "codemirror_mode": {
    "name": "ipython",
    "version": 3
   },
   "file_extension": ".py",
   "mimetype": "text/x-python",
   "name": "python",
   "nbconvert_exporter": "python",
   "pygments_lexer": "ipython3",
   "version": "3.8.0"
  }
 },
 "nbformat": 4,
 "nbformat_minor": 4
}