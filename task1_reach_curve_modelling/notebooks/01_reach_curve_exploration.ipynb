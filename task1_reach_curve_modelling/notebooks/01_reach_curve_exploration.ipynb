{
 "cells": [
  {
   "cell_type": "markdown",
   "metadata": {},
   "source": [
    "# Reach Curve Modeling Based On Timespends Data\n",
    " \n",
    "This notebook explores and models reach curve.\n",
    "\n",
    "## Objectives:\n",
    "1. Load and explore data\n",
    "2. Exploratory data analysis\n",
    "3. Research\n",
    "3. Reach curve modeling\n",
    "4. Evaluation method\n",
    "5. Reach Optimization\n",
    "6. Recommendations and Insights"
   ]
  },
  {
   "cell_type": "code",
   "execution_count": null,
   "metadata": {},
   "outputs": [],
   "source": [
    "import numpy as np\n",
    "import pandas as pd\n",
    "import matplotlib.pyplot as plt\n",
    "from sklearn_extra.cluster import KMedoids\n",
    "from tqdm import tqdm\n",
    "\n",
    "import warnings\n",
    "warnings.filterwarnings('ignore')"
   ]
  },
  {
   "cell_type": "markdown",
   "metadata": {},
   "source": [
    "## 1. Load and explore data"
   ]
  },
  {
   "cell_type": "code",
   "execution_count": null,
   "metadata": {},
   "outputs": [],
   "source": [
    "timespends = pd.read_csv(\"../data/timespends.csv\", index_col=0)\n",
    "\n",
    "TOTAL_NUM_SAMPLES = len(timespends)\n",
    "print(f\"No. of samples: {TOTAL_NUM_SAMPLES}\")\n",
    "print(f\"Sample:\\n {timespends.head()}\")\n",
    "\n",
    "\n",
    "plt.plot(sorted(timespends['timespends']))\n",
    "plt.title(\"Timespends (sorted)\")\n",
    "plt.show()"
   ]
  },
  {
   "cell_type": "markdown",
   "metadata": {},
   "source": [
    "### Basic observations\n",
    "\n",
    "So, the entire population comprises 10,333 samples, for which the average time spent on a particular medium was measured.\n",
    "\n",
    "The above plot reveals about 20% of sampled population doesn't use the medium at all. \n",
    "This means there's simply no way to reach them through this medium, and it will also set an upper limit for the reach curve (around 80%).\n",
    "\n",
    "On the other hand, about 15% of the population spends the most time on this medium compared to all other groups. \n",
    "This group will likely contain the highest number of individuals who will see an advertisement multiple times. \n",
    "Because of it - the reach curve will flatten – despite an increase in the number of impressions."
   ]
  },
  {
   "cell_type": "markdown",
   "metadata": {},
   "source": [
    "## 2. Exploratory Data Analysis"
   ]
  },
  {
   "cell_type": "code",
   "execution_count": null,
   "metadata": {},
   "outputs": [],
   "source": [
    "timespends['timespends'].value_counts().head(15)"
   ]
  },
  {
   "cell_type": "code",
   "execution_count": null,
   "metadata": {},
   "outputs": [],
   "source": [
    "print(\"Zero time users are {:.2f} % of all users.\".format(np.sum(timespends['timespends'] == 0) / len(timespends) * 100))"
   ]
  },
  {
   "cell_type": "code",
   "execution_count": null,
   "metadata": {},
   "outputs": [],
   "source": [
    "N_CLUSTERS = 7\n",
    "X = timespends['timespends'].to_numpy().reshape(-1, 1)\n",
    "kmedoids = KMedoids(n_clusters=N_CLUSTERS, random_state=0, method='pam').fit(X)"
   ]
  },
  {
   "cell_type": "code",
   "execution_count": null,
   "metadata": {},
   "outputs": [],
   "source": [
    "clustered_data = timespends.copy()\n",
    "clustered_data['cluster'] = kmedoids.predict(X)\n",
    "clustered_data['cluster-timespend'] = clustered_data.apply(lambda row: kmedoids.cluster_centers_[int(row['cluster'])][0], axis=1)\n",
    "clustered_data.head()"
   ]
  },
  {
   "cell_type": "code",
   "execution_count": null,
   "metadata": {},
   "outputs": [],
   "source": [
    "plt.plot(sorted(clustered_data['cluster-timespend']))\n",
    "plt.title(\"Timespends (sorted) - clustered\")"
   ]
  },
  {
   "cell_type": "code",
   "execution_count": null,
   "metadata": {},
   "outputs": [],
   "source": [
    "df = pd.DataFrame(clustered_data['cluster-timespend'].value_counts())\n",
    "df.reset_index(inplace=True)\n",
    "df.sort_values(by='cluster-timespend', inplace=True, ascending=False)\n",
    "df['perc_of_total'] = df['count'] / TOTAL_NUM_SAMPLES * 100\n",
    "df['perc_of_total_cum'] = np.cumsum(df['perc_of_total'].to_numpy())\n",
    "df"
   ]
  },
  {
   "cell_type": "markdown",
   "metadata": {},
   "source": [
    "### Observations\n",
    "1. We have 7 main user groups defined.\n",
    "2. The maximum value the reach curve will achieve is ```79.45%```\n",
    "3. The minimum value is 0 (it would be interesting to estimate this worst-case scenario somehow — i.e., what would be the chances that absolutely no one gets any impression even once).\n",
    "4. The reach curve is a non-decreasing curve because an impression, once received, cannot be unreceived (or taken back)."
   ]
  },
  {
   "cell_type": "markdown",
   "metadata": {},
   "source": [
    "## 3. Research"
   ]
  },
  {
   "cell_type": "markdown",
   "metadata": {},
   "source": [
    "### Articles - a brief literature overview\n",
    "1. [Reach Measurement, Optimization and Frequency Capping In Targeted Online Advertising Under k-Anonymity](https://arxiv.org/pdf/2501.04882v1)\n",
    "2. [Estimating reach curves from one data point](https://static.googleusercontent.com/media/research.google.com/en//pubs/archive/43218.pdf)\n",
    "3. [Privacy-centric Cross-publisher Reach and Frequency Estimation Via Vector of Counts](https://storage.googleapis.com/gweb-research2023-media/pubtools/6039.pdf#cite.kreuter2020privacy)\n",
    "4. [Privacy-Preserving Secure Cardinality and Frequency Estimation](https://storage.googleapis.com/gweb-research2023-media/pubtools/5611.pdf)\n",
    "5. [Virtual People: Actionable Reach Modeling](https://research.google/pubs/virtual-people-actionable-reach-modeling/)\n",
    "6. [Measuring Cross-Device Online Audiences](https://research.google/pubs/measuring-cross-device-online-audiences/)\n",
    "7. [Scalable Multi-objective Optimization in Programmatic Advertising via Feedback Control](https://www.researchgate.net/publication/356879928_Scalable_Multi-objective_Optimization_in_Programmatic_Advertising_via_Feedback_Control)\n",
    "\n",
    "These are articles I found while searching for topics related to reach curve modeling. While there's only one curve, it's a surprisingly broad subject with fascinating modeling."
   ]
  },
  {
   "cell_type": "markdown",
   "metadata": {},
   "source": [
    "## 4. Model and simulation of reach curve\n",
    "To better understand the problem, it's worth considering running a simulation.\n",
    "\n",
    "The way we model the reach curve will largely depend on the media type. \\\n",
    "It'll be different for TV, where a single impression can attract multiple viewers, but you can't differentiate them when that impression appears across a user's various accounts on a platform. \\\n",
    "On these platforms, you pay for every impression, but if it's not anonymous, you can gather data on whether a specific ad has been previously viewed.\n",
    "\n",
    "In the notebook - the idea is to treat impressions as something $\\bold{requested}$ by a given user who uses a particular medium, no user tracking history if an user already seen ad, so where repeat views are possible."
   ]
  },
  {
   "cell_type": "markdown",
   "metadata": {},
   "source": [
    "## Mathematical Framework\n",
    "\n",
    "### Some definitions\n",
    "- $\\Omega = \\{0, 1, ..., N - 1\\}$ - user population, where $N = 10333$\n",
    "- random variable $T:\\Omega \\to \\mathbb{R}$ to annotate average timespend of user $i$\n",
    "- random variable $Y: \\Omega \\to \\mathbb{R}$ where $Y(i) = p_i$ is the probability that impression will be requested by the user $i$ (?) \\\n",
    "it could be seemed as some function of $T$, one of the simplest ideas is:\n",
    "$$\n",
    "Y(i) = \\frac{T(i)}{\\sum_{i\\epsilon\\Omega}T(i)} \n",
    "$$\n",
    "- random variable $X_n: \\Omega \\to \\mathbb{R}$ to model result of requesting of $n^{th}$ impression (?)\n",
    "- $S_n \\subseteq \\Omega$ - set of users reached after $n$ impressions\n",
    "- $R(n) = |S_n| / |\\Omega| * 100$%\n",
    "\n",
    "### Reach Function\n",
    "- $S_0 = \\emptyset$\n",
    "- $S_{n+1} = S_n \\cup \\{? \\}$ <- how to model results of $X_n$, I would like to get map somehow and get $S_{n}$ as image\n",
    "- $R(n) = |S_n|$ is non-decreasing with $R(n) \\leq |A|$, where $A = { \\{i \\epsilon \\Omega: Y(i) > 0\\}}$ \n",
    "\n",
    "!!! Note: I struggle a little to formalize the problem and I have still a with that, so the description is incomplete.\n",
    "TODO:\n",
    "1. Probably try to brute force computations of all states for the given n of impressions\n",
    "2. Draw for $\\Omega$ with number of users $N = 3, 4$\n",
    "3. I would like that upper limit for $R$ will not come from common sense, but conlusion from the model "
   ]
  },
  {
   "cell_type": "markdown",
   "metadata": {},
   "source": [
    "### Simulation"
   ]
  },
  {
   "cell_type": "code",
   "execution_count": 67,
   "metadata": {},
   "outputs": [],
   "source": [
    "class StochasticReachSimulator:\n",
    "    \"\"\"\n",
    "    Simulates reach curve using stochastic process based on user timespends.\n",
    "\n",
    "    Note: Probabilities for active users are \n",
    "    directly related to their time spent on the medium.\n",
    "    \"\"\"\n",
    "    \n",
    "    def __init__(self, timespends):\n",
    "        self.timespends = timespends\n",
    "        self.total_users = len(timespends)\n",
    "        \n",
    "        self.active_mask = timespends > 0\n",
    "        self.active_indices = np.where(self.active_mask)[0]\n",
    "        self.active_timespends = timespends[self.active_mask]\n",
    "        \n",
    "        self.probabilities = self.timespends / np.sum(self.timespends)\n",
    "        self.max_reach = len(self.active_indices)\n",
    "        \n",
    "    def simulate_single_run(self, n_impressions: int) -> tuple[np.array, set[int]]:\n",
    "        \"\"\"\n",
    "        Simulate a single run of the reach process.\n",
    "        \n",
    "        Returns:\n",
    "            reach_curve: array of reach values at each impression\n",
    "            reached_users: set of users reached\n",
    "\n",
    "        \"\"\"\n",
    "        reached_users = set()\n",
    "        reach_curve = np.zeros(n_impressions + 1)\n",
    "        \n",
    "        for i in range(n_impressions):\n",
    "            selected_user_idx = np.random.choice(\n",
    "                self.timespends, \n",
    "                p=self.probabilities\n",
    "            )\n",
    "            \n",
    "            reached_users.add(selected_user_idx)\n",
    "            reach_curve[i + 1] = len(reached_users)\n",
    "            \n",
    "        return reach_curve, reached_users\n",
    "    \n",
    "    def simulate_multiple_runs(self, n_impressions: int, n_runs: int) -> np.array:\n",
    "        \"\"\"\n",
    "        Simulate multiple runs to get distribution of reach curves.\n",
    "        \"\"\"\n",
    "        reach_curves = np.zeros((n_runs, n_impressions + 1))\n",
    "        \n",
    "        for run in tqdm(range(n_runs), desc=\"Simulating runs\"):\n",
    "            reach_curve, _ = self.simulate_single_run(n_impressions)\n",
    "            reach_curves[run] = reach_curve\n",
    "            \n",
    "        return reach_curves\n",
    "    \n",
    "    def compute_expected_reach(self, n_impressions: int) -> np.array:\n",
    "        \"\"\"\n",
    "        Compute theoretical expected reach using inclusion-exclusion principle.\n",
    "        For large n, this approximates to: E[R(n)] ≈ M * (1 - exp(-n/M))\n",
    "        where M is the number of active users.\n",
    "        \"\"\"\n",
    "        prob_not_reached = (1 - self.probabilities) ** n_impressions\n",
    "        expected_reach = self.max_reach - np.sum(prob_not_reached)\n",
    "        \n",
    "        return expected_reach"
   ]
  },
  {
   "cell_type": "code",
   "execution_count": null,
   "metadata": {},
   "outputs": [],
   "source": [
    "simulator = StochasticReachSimulator(timespends.values)\n",
    "\n",
    "N_IMPRESSIONS = 100_000\n",
    "N_RUNS = 20\n",
    "\n",
    "reach_curves = simulator.simulate_multiple_runs(N_IMPRESSIONS, N_RUNS)"
   ]
  },
  {
   "cell_type": "code",
   "execution_count": null,
   "metadata": {},
   "outputs": [],
   "source": [
    "mean_reach = np.mean(reach_curves, axis=0)\n",
    "std_reach = np.std(reach_curves, axis=0)\n",
    "percentile_5 = np.percentile(reach_curves, 5, axis=0)\n",
    "percentile_95 = np.percentile(reach_curves, 95, axis=0)\n",
    "\n",
    "impressions = np.arange(N_IMPRESSIONS + 1)\n",
    "\n",
    "plt.figure(figsize=(12, 8))\n",
    "\n",
    "for i in range(min(10, N_RUNS)):\n",
    "    plt.plot(impressions, reach_curves[i], alpha=0.1, color='gray')\n",
    "\n",
    "plt.plot(impressions, mean_reach, 'b-', linewidth=2, label='Mean reach')\n",
    "plt.fill_between(impressions, percentile_5, percentile_95, \n",
    "                 alpha=0.2, color='blue', label='90% confidence interval')               \n",
    "plt.axhline(y=simulator.max_reach, color='r', linestyle='--', \n",
    "            label=f'Maximum possible reach: {simulator.max_reach:,}')\n",
    "\n",
    "plt.xlabel('Number of Impressions')\n",
    "plt.ylabel('Reach (Unique Users)')\n",
    "plt.title('Stochastic Reach Curve Simulation')\n",
    "plt.legend()\n",
    "plt.grid(True, alpha=0.3)\n",
    "plt.show()"
   ]
  },
  {
   "cell_type": "markdown",
   "metadata": {},
   "source": [
    "## 5. Reach Efficiency Analysis"
   ]
  },
  {
   "cell_type": "code",
   "execution_count": null,
   "metadata": {},
   "outputs": [],
   "source": [
    "reach_pct_total = mean_reach / simulator.total_users * 100\n",
    "reach_pct_active = mean_reach / simulator.max_reach * 100\n",
    "\n",
    "marginal_reach = np.diff(mean_reach)\n",
    "\n",
    "fig, ax = plt.subplots(figsize=(12, 10))\n",
    "\n",
    "ax.plot(impressions, reach_pct_total, 'b-', linewidth=2, \n",
    "         label='% of total population')\n",
    "ax.plot(impressions, reach_pct_active, 'g-', linewidth=2, \n",
    "         label='% of active users')\n",
    "ax.set_xlabel('Number of Impressions')\n",
    "ax.set_ylabel('Reach (%)')\n",
    "ax.set_title('Reach as Percentage of Population')\n",
    "ax.legend()\n",
    "ax.grid(True, alpha=0.3)\n",
    "\n",
    "plt.tight_layout()\n",
    "plt.show()"
   ]
  },
  {
   "cell_type": "markdown",
   "metadata": {},
   "source": [
    "## 6. Theoretical vs Empirical Comparison"
   ]
  },
  {
   "cell_type": "code",
   "execution_count": null,
   "metadata": {},
   "outputs": [],
   "source": [
    "impression_points = np.logspace(1, np.log10(N_IMPRESSIONS), 50).astype(int)\n",
    "theoretical_reach = []\n",
    "\n",
    "for n in impression_points:\n",
    "    expected = simulator.compute_expected_reach(n)\n",
    "    theoretical_reach.append(expected)\n",
    "\n",
    "theoretical_reach = np.array(theoretical_reach)\n",
    "\n",
    "plt.figure(figsize=(12, 8))\n",
    "\n",
    "plt.plot(impressions, mean_reach, 'b-', linewidth=2, \n",
    "         label='Empirical (simulation mean)', alpha=0.8)\n",
    "\n",
    "plt.plot(impression_points, theoretical_reach, 'ro--', \n",
    "         markersize=6, linewidth=2, label='Theoretical expected reach')\n",
    "\n",
    "plt.axhline(y=simulator.max_reach, color='g', linestyle='--', \n",
    "            label=f'Maximum: {simulator.max_reach:,}')\n",
    "\n",
    "plt.xlabel('Number of Impressions')\n",
    "plt.ylabel('Reach (Unique Users)')\n",
    "plt.title('Theoretical vs Empirical Reach Curves')\n",
    "plt.legend()\n",
    "plt.grid(True, alpha=0.3)\n",
    "plt.xlim(0, N_IMPRESSIONS)\n",
    "plt.show()"
   ]
  }
 ],
 "metadata": {
  "kernelspec": {
   "display_name": "venv",
   "language": "python",
   "name": "python3"
  },
  "language_info": {
   "codemirror_mode": {
    "name": "ipython",
    "version": 3
   },
   "file_extension": ".py",
   "mimetype": "text/x-python",
   "name": "python",
   "nbconvert_exporter": "python",
   "pygments_lexer": "ipython3",
   "version": "3.12.3"
  }
 },
 "nbformat": 4,
 "nbformat_minor": 4
}
